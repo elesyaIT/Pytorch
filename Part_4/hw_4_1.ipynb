{
  "cells": [
    {
      "cell_type": "markdown",
      "id": "4f93b15d",
      "metadata": {
        "id": "4f93b15d"
      },
      "source": [
        "## Домашнее задание\n",
        "\n",
        "1. Обучите CNN (самописная) на CIFAR-100.\n",
        "2. Обучите CNN на CIFAR-100 через дообучение ImageNet Resnet-50.\n",
        "3. *Обучите CNN на CIFAR-100 через дообучение ImageNet Resnet-50 с аугментацией данных.\n",
        "4. Сравните результаты обучения на эквивалентном числе эпох."
      ]
    },
    {
      "cell_type": "code",
      "source": [
        "from google.colab import drive\n",
        "drive.mount('/content/drive')"
      ],
      "metadata": {
        "colab": {
          "base_uri": "https://localhost:8080/"
        },
        "id": "Ux1Odzl6o8z2",
        "outputId": "ae963588-0675-43fb-c6c5-b6f8ce64e52b"
      },
      "id": "Ux1Odzl6o8z2",
      "execution_count": 2,
      "outputs": [
        {
          "output_type": "stream",
          "name": "stdout",
          "text": [
            "Drive already mounted at /content/drive; to attempt to forcibly remount, call drive.mount(\"/content/drive\", force_remount=True).\n"
          ]
        }
      ]
    },
    {
      "cell_type": "markdown",
      "id": "8b08c024",
      "metadata": {
        "id": "8b08c024"
      },
      "source": [
        "1. Обучите CNN (самописная) на CIFAR-100."
      ]
    },
    {
      "cell_type": "code",
      "execution_count": 3,
      "id": "c51efc43",
      "metadata": {
        "id": "c51efc43"
      },
      "outputs": [],
      "source": [
        "import numpy as np\n",
        "import torch\n",
        "\n",
        "from torch import nn\n",
        "from torch.nn import functional as F\n",
        "from PIL import Image\n",
        "from torchvision import transforms, datasets\n",
        "from tqdm import tqdm\n",
        "\n",
        "from sklearn.model_selection import train_test_split"
      ]
    },
    {
      "cell_type": "code",
      "execution_count": 4,
      "id": "3a4b61f5",
      "metadata": {
        "colab": {
          "base_uri": "https://localhost:8080/",
          "height": 84,
          "referenced_widgets": [
            "0d3f70391a6048428c357b4873e38b2a",
            "a72f9f8848284c57b1d4d101557f0d98",
            "57f7ed4bc6f44a21ade16136614d8f1e",
            "91e35c93b2b94e6785fdf446deeb4b2c",
            "ebff4cf5a94e42e48ab044475c253949",
            "4066848ee0bf42fb9d570473bf12929c",
            "23f6b34a008642aba5783bd253b1be2b",
            "a8e6370de1824aba90f9388f1557dab1",
            "5bc735a3f6ee4d18b688c9556228ceaf",
            "196404eff34148a99ebae43d9ab3cab0",
            "865fe7b813ed4f58baea7002980bb53c"
          ]
        },
        "id": "3a4b61f5",
        "outputId": "9de2302d-894d-4ae9-b0e2-f8b7cf23e224"
      },
      "outputs": [
        {
          "output_type": "stream",
          "name": "stdout",
          "text": [
            "Downloading https://www.cs.toronto.edu/~kriz/cifar-100-python.tar.gz to data/cifar-100-python.tar.gz\n"
          ]
        },
        {
          "output_type": "display_data",
          "data": {
            "text/plain": [
              "  0%|          | 0/169001437 [00:00<?, ?it/s]"
            ],
            "application/vnd.jupyter.widget-view+json": {
              "version_major": 2,
              "version_minor": 0,
              "model_id": "0d3f70391a6048428c357b4873e38b2a"
            }
          },
          "metadata": {}
        },
        {
          "output_type": "stream",
          "name": "stdout",
          "text": [
            "Extracting data/cifar-100-python.tar.gz to data/\n"
          ]
        }
      ],
      "source": [
        "dataset = datasets.CIFAR100(root='data/', train=True, download=True)\n",
        "\n",
        "\n",
        "class MyOwnCifar(torch.utils.data.Dataset):\n",
        "   \n",
        "    def __init__(self, init_dataset, transform=None):\n",
        "        self._base_dataset = init_dataset\n",
        "        self.transform = transform\n",
        "\n",
        "    def __len__(self):\n",
        "        return len(self._base_dataset)\n",
        "\n",
        "    def __getitem__(self, idx):\n",
        "        img = self._base_dataset[idx][0]\n",
        "        if self.transform is not None:\n",
        "            img = self.transform(img)\n",
        "        return img, self._base_dataset[idx][1]"
      ]
    },
    {
      "cell_type": "code",
      "source": [
        "trans_actions = transforms.Compose([transforms.Resize(44),\n",
        "                                    transforms.RandomCrop(32, padding=4), \n",
        "                                    transforms.ToTensor()])\n",
        "\n",
        "\n",
        "def train_valid_split(Xt):\n",
        "    X_train, X_test = train_test_split(Xt, test_size=0.05, random_state=13)\n",
        "    return X_train, X_test\n",
        "\n",
        "train_dataset, valid_dataset = train_valid_split(dataset)\n",
        "\n",
        "train_dataset = MyOwnCifar(train_dataset, trans_actions)\n",
        "valid_dataset = MyOwnCifar(valid_dataset, transforms.ToTensor())"
      ],
      "metadata": {
        "id": "NskQOQOpMVCE"
      },
      "id": "NskQOQOpMVCE",
      "execution_count": 5,
      "outputs": []
    },
    {
      "cell_type": "code",
      "execution_count": 6,
      "id": "b781816f",
      "metadata": {
        "id": "b781816f"
      },
      "outputs": [],
      "source": [
        "train_loader = torch.utils.data.DataLoader(train_dataset,\n",
        "                          batch_size=128,\n",
        "                          shuffle=True,\n",
        "                          num_workers=2)\n",
        "valid_loader = torch.utils.data.DataLoader(valid_dataset,\n",
        "                          batch_size=128,\n",
        "                          shuffle=False,\n",
        "                          num_workers=1)"
      ]
    },
    {
      "cell_type": "code",
      "execution_count": 7,
      "id": "6640ed7a",
      "metadata": {
        "id": "6640ed7a"
      },
      "outputs": [],
      "source": [
        "classes = ['mammalsbeaver',\n",
        " 'dolphin',\n",
        " 'otter',\n",
        " 'seal',\n",
        " 'whale',\n",
        " 'aquariumfish',\n",
        " 'flatfish',\n",
        " 'ray',\n",
        " 'shark',\n",
        " 'trout',\n",
        " 'orchids',\n",
        " 'poppies',\n",
        " 'roses',\n",
        " 'sunflowers',\n",
        " 'tulips',\n",
        " 'containersbottles',\n",
        " 'bowls',\n",
        " 'cans',\n",
        " 'cups',\n",
        " 'plates',\n",
        " 'apples',\n",
        " 'mushrooms',\n",
        " 'oranges',\n",
        " 'pears',\n",
        " 'sweetpeppers',\n",
        " 'clock',\n",
        " 'computerkeyboard',\n",
        " 'lamp',\n",
        " 'telephone',\n",
        " 'television',\n",
        " 'furniturebed',\n",
        " 'chair',\n",
        " 'couch',\n",
        " 'table',\n",
        " 'wardrobe',\n",
        " 'bee',\n",
        " 'beetle',\n",
        " 'butterfly',\n",
        " 'caterpillar',\n",
        " 'cockroach',\n",
        " 'bear',\n",
        " 'leopard',\n",
        " 'lion',\n",
        " 'tiger',\n",
        " 'wolf',\n",
        " 'bridge',\n",
        " 'castle',\n",
        " 'house',\n",
        " 'road',\n",
        " 'skyscraper',\n",
        " 'cloud',\n",
        " 'forest',\n",
        " 'mountain',\n",
        " 'plain',\n",
        " 'sea',\n",
        " 'camel',\n",
        " 'cattle',\n",
        " 'chimpanzee',\n",
        " 'elephant',\n",
        " 'kangaroo',\n",
        " 'fox',\n",
        " 'porcupine',\n",
        " 'possum',\n",
        " 'raccoon',\n",
        " 'skunk',\n",
        " 'crab',\n",
        " 'lobster',\n",
        " 'snail',\n",
        " 'spider',\n",
        " 'worm',\n",
        " 'baby',\n",
        " 'boy',\n",
        " 'girl',\n",
        " 'man',\n",
        " 'woman',\n",
        " 'crocodile',\n",
        " 'dinosaur',\n",
        " 'lizard',\n",
        " 'snake',\n",
        " 'turtle',\n",
        " 'hamster',\n",
        " 'mouse',\n",
        " 'rabbit',\n",
        " 'shrew',\n",
        " 'squirrel',\n",
        " 'maple',\n",
        " 'oak',\n",
        " 'palm',\n",
        " 'pine',\n",
        " 'willow',\n",
        " 'bicycle',\n",
        " 'bus',\n",
        " 'motorcycle',\n",
        " 'pickuptruck',\n",
        " 'train',\n",
        " 'lawn-mower',\n",
        " 'rocket',\n",
        " 'streetcar',\n",
        " 'tank',\n",
        " 'tractor']"
      ]
    },
    {
      "cell_type": "code",
      "execution_count": 8,
      "id": "9c0875f3",
      "metadata": {
        "colab": {
          "base_uri": "https://localhost:8080/",
          "height": 301
        },
        "id": "9c0875f3",
        "outputId": "26c0b7bb-7e8c-4b8a-bab9-20ef93a228ec"
      },
      "outputs": [
        {
          "output_type": "stream",
          "name": "stdout",
          "text": [
            "torch.Size([128, 3, 32, 32])\n",
            "fox\n"
          ]
        },
        {
          "output_type": "display_data",
          "data": {
            "text/plain": [
              "<Figure size 432x288 with 1 Axes>"
            ],
            "image/png": "[encoded data removed]"
          },
          "metadata": {
            "needs_background": "light"
          }
        }
      ],
      "source": [
        "import matplotlib.pyplot as plt\n",
        "\n",
        "\n",
        "for img, lbl in train_loader:\n",
        "    print(img.shape)\n",
        "    print(classes[lbl[0]])\n",
        "    plt.imshow(img[0].permute(1, 2, 0))\n",
        "    break"
      ]
    },
    {
      "cell_type": "code",
      "execution_count": 9,
      "id": "60a1aa6a",
      "metadata": {
        "colab": {
          "base_uri": "https://localhost:8080/",
          "height": 35
        },
        "id": "60a1aa6a",
        "outputId": "b8607c5f-07cd-439a-b0df-1d69c82e9349"
      },
      "outputs": [
        {
          "output_type": "execute_result",
          "data": {
            "text/plain": [
              "'cuda'"
            ],
            "application/vnd.google.colaboratory.intrinsic+json": {
              "type": "string"
            }
          },
          "metadata": {},
          "execution_count": 9
        }
      ],
      "source": [
        "device = 'cuda' if torch.cuda.is_available() else 'cpu'\n",
        "device"
      ]
    },
    {
      "cell_type": "code",
      "execution_count": 10,
      "id": "81268413",
      "metadata": {
        "colab": {
          "base_uri": "https://localhost:8080/"
        },
        "id": "81268413",
        "outputId": "d46b55f9-6195-41cf-88c3-241f550357bf"
      },
      "outputs": [
        {
          "output_type": "stream",
          "name": "stdout",
          "text": [
            "Net(\n",
            "  (dp_one): Dropout(p=0.2, inplace=False)\n",
            "  (dp_two): Dropout(p=0.2, inplace=False)\n",
            "  (bn_one): BatchNorm2d(3, eps=1e-05, momentum=0.1, affine=True, track_running_stats=True)\n",
            "  (conv_one): Conv2d(3, 30, kernel_size=(3, 3), stride=(1, 1))\n",
            "  (bn_two): BatchNorm2d(30, eps=1e-05, momentum=0.1, affine=True, track_running_stats=True)\n",
            "  (conv_two): Conv2d(30, 60, kernel_size=(3, 3), stride=(1, 1))\n",
            "  (bn_three): BatchNorm2d(60, eps=1e-05, momentum=0.1, affine=True, track_running_stats=True)\n",
            "  (conv_three): Conv2d(60, 120, kernel_size=(3, 3), stride=(1, 1))\n",
            "  (bn_four): BatchNorm2d(120, eps=1e-05, momentum=0.1, affine=True, track_running_stats=True)\n",
            "  (fc1): Linear(in_features=480, out_features=256, bias=True)\n",
            "  (fc2): Linear(in_features=256, out_features=128, bias=True)\n",
            "  (out): Linear(in_features=128, out_features=100, bias=True)\n",
            ")\n"
          ]
        }
      ],
      "source": [
        "class Net(nn.Module):\n",
        "\n",
        "    def __init__(self):\n",
        "        super(Net, self).__init__()\n",
        "        self.dp_one = nn.Dropout(0.2)\n",
        "        self.dp_two = nn.Dropout(0.2)\n",
        "        \n",
        "        self.bn_one = torch.nn.BatchNorm2d(3) \n",
        "        self.conv_one = torch.nn.Conv2d(3, 30, 3)\n",
        "        self.bn_two = torch.nn.BatchNorm2d(30) \n",
        "        self.conv_two = torch.nn.Conv2d(30, 60, 3)\n",
        "        self.bn_three = torch.nn.BatchNorm2d(60)\n",
        "        self.conv_three = torch.nn.Conv2d(60, 120, 3)\n",
        "        self.bn_four = torch.nn.BatchNorm2d(120)\n",
        "        self.fc1 = torch.nn.Linear(480, 256)\n",
        "        self.fc2 = torch.nn.Linear(256, 128)\n",
        "        self.out = torch.nn.Linear(128, 100)\n",
        "        \n",
        "    def forward(self, x):\n",
        "        x = self.bn_one(x)\n",
        "        x = self.conv_one(x)\n",
        "        x = F.relu(x)\n",
        "        x = F.max_pool2d(x, 2)\n",
        "        \n",
        "        x = self.bn_two(x)\n",
        "        x = self.conv_two(x)\n",
        "        x = F.relu(x)\n",
        "        x = F.max_pool2d(x, 2)\n",
        "        \n",
        "        x = self.bn_three(x)\n",
        "        x = self.conv_three(x)\n",
        "        x = F.leaky_relu(x, 0.1)\n",
        "        x = F.max_pool2d(x, 2)\n",
        "        \n",
        "        x = self.bn_four(x)\n",
        "        x = x.view(x.size(0), -1)\n",
        "        x = self.dp_one(x)\n",
        "        x = self.fc1(x)\n",
        "        x = F.relu(x)\n",
        "        x = self.dp_two(x)\n",
        "        x = self.fc2(x)\n",
        "        x = F.relu(x)\n",
        "        return self.out(x)\n",
        "       \n",
        "net = Net().to(device)\n",
        "print(net)"
      ]
    },
    {
      "cell_type": "code",
      "execution_count": 11,
      "id": "5875747e",
      "metadata": {
        "id": "5875747e"
      },
      "outputs": [],
      "source": [
        "optimizer = torch.optim.Adam(net.parameters(), lr=0.001)\n",
        "criterion = nn.CrossEntropyLoss()"
      ]
    },
    {
      "cell_type": "code",
      "execution_count": 12,
      "id": "dc0196f4",
      "metadata": {
        "colab": {
          "base_uri": "https://localhost:8080/"
        },
        "id": "dc0196f4",
        "outputId": "a7775420-fd15-4631-f70e-0593a3826d07"
      },
      "outputs": [
        {
          "output_type": "stream",
          "name": "stdout",
          "text": [
            "----------------------------------------------------------------\n",
            "        Layer (type)               Output Shape         Param #\n",
            "================================================================\n",
            "       BatchNorm2d-1            [-1, 3, 32, 32]               6\n",
            "            Conv2d-2           [-1, 30, 30, 30]             840\n",
            "       BatchNorm2d-3           [-1, 30, 15, 15]              60\n",
            "            Conv2d-4           [-1, 60, 13, 13]          16,260\n",
            "       BatchNorm2d-5             [-1, 60, 6, 6]             120\n",
            "            Conv2d-6            [-1, 120, 4, 4]          64,920\n",
            "       BatchNorm2d-7            [-1, 120, 2, 2]             240\n",
            "           Dropout-8                  [-1, 480]               0\n",
            "            Linear-9                  [-1, 256]         123,136\n",
            "          Dropout-10                  [-1, 256]               0\n",
            "           Linear-11                  [-1, 128]          32,896\n",
            "           Linear-12                  [-1, 100]          12,900\n",
            "================================================================\n",
            "Total params: 251,378\n",
            "Trainable params: 251,378\n",
            "Non-trainable params: 0\n",
            "----------------------------------------------------------------\n",
            "Input size (MB): 0.01\n",
            "Forward/backward pass size (MB): 0.40\n",
            "Params size (MB): 0.96\n",
            "Estimated Total Size (MB): 1.37\n",
            "----------------------------------------------------------------\n"
          ]
        }
      ],
      "source": [
        "from torchsummary import summary\n",
        "\n",
        "summary(net.to(device), input_size=(3, 32, 32))"
      ]
    },
    {
      "cell_type": "code",
      "execution_count": 13,
      "id": "7b40a9e0",
      "metadata": {
        "colab": {
          "base_uri": "https://localhost:8080/"
        },
        "id": "7b40a9e0",
        "outputId": "460ba86c-19d9-4673-ceec-b8aa4ea97d5f"
      },
      "outputs": [
        {
          "output_type": "stream",
          "name": "stdout",
          "text": [
            "Epoch [1/25]. Step [1/372]. Loss: 0.036. Acc: 0.000. Test acc: 0.008\n",
            "Epoch [1/25]. Step [301/372]. Loss: 0.032. Acc: 0.081. Test acc: 0.107\n",
            "Epoch [2/25]. Step [1/372]. Loss: 0.030. Acc: 0.180. Test acc: 0.120\n",
            "Epoch [2/25]. Step [301/372]. Loss: 0.028. Acc: 0.142. Test acc: 0.133\n",
            "Epoch [3/25]. Step [1/372]. Loss: 0.027. Acc: 0.156. Test acc: 0.148\n",
            "Epoch [3/25]. Step [301/372]. Loss: 0.027. Acc: 0.182. Test acc: 0.136\n",
            "Epoch [4/25]. Step [1/372]. Loss: 0.026. Acc: 0.203. Test acc: 0.152\n",
            "Epoch [4/25]. Step [301/372]. Loss: 0.026. Acc: 0.206. Test acc: 0.157\n",
            "Epoch [5/25]. Step [1/372]. Loss: 0.026. Acc: 0.234. Test acc: 0.172\n",
            "Epoch [5/25]. Step [301/372]. Loss: 0.025. Acc: 0.218. Test acc: 0.182\n",
            "Epoch [6/25]. Step [1/372]. Loss: 0.025. Acc: 0.242. Test acc: 0.188\n",
            "Epoch [6/25]. Step [301/372]. Loss: 0.024. Acc: 0.232. Test acc: 0.206\n",
            "Epoch [7/25]. Step [1/372]. Loss: 0.022. Acc: 0.312. Test acc: 0.198\n",
            "Epoch [7/25]. Step [301/372]. Loss: 0.024. Acc: 0.245. Test acc: 0.194\n",
            "Epoch [8/25]. Step [1/372]. Loss: 0.023. Acc: 0.289. Test acc: 0.204\n",
            "Epoch [8/25]. Step [301/372]. Loss: 0.023. Acc: 0.254. Test acc: 0.196\n",
            "Epoch [9/25]. Step [1/372]. Loss: 0.022. Acc: 0.258. Test acc: 0.188\n",
            "Epoch [9/25]. Step [301/372]. Loss: 0.023. Acc: 0.262. Test acc: 0.187\n",
            "Epoch [10/25]. Step [1/372]. Loss: 0.024. Acc: 0.266. Test acc: 0.208\n",
            "Epoch [10/25]. Step [301/372]. Loss: 0.023. Acc: 0.271. Test acc: 0.198\n",
            "Epoch [11/25]. Step [1/372]. Loss: 0.023. Acc: 0.234. Test acc: 0.220\n",
            "Epoch [11/25]. Step [301/372]. Loss: 0.023. Acc: 0.277. Test acc: 0.211\n",
            "Epoch [12/25]. Step [1/372]. Loss: 0.022. Acc: 0.203. Test acc: 0.214\n",
            "Epoch [12/25]. Step [301/372]. Loss: 0.022. Acc: 0.280. Test acc: 0.216\n",
            "Epoch [13/25]. Step [1/372]. Loss: 0.023. Acc: 0.273. Test acc: 0.211\n",
            "Epoch [13/25]. Step [301/372]. Loss: 0.022. Acc: 0.288. Test acc: 0.233\n",
            "Epoch [14/25]. Step [1/372]. Loss: 0.022. Acc: 0.273. Test acc: 0.228\n",
            "Epoch [14/25]. Step [301/372]. Loss: 0.022. Acc: 0.297. Test acc: 0.237\n",
            "Epoch [15/25]. Step [1/372]. Loss: 0.020. Acc: 0.344. Test acc: 0.230\n",
            "Epoch [15/25]. Step [301/372]. Loss: 0.022. Acc: 0.299. Test acc: 0.247\n",
            "Epoch [16/25]. Step [1/372]. Loss: 0.023. Acc: 0.297. Test acc: 0.228\n",
            "Epoch [16/25]. Step [301/372]. Loss: 0.021. Acc: 0.306. Test acc: 0.221\n",
            "Epoch [17/25]. Step [1/372]. Loss: 0.020. Acc: 0.344. Test acc: 0.242\n",
            "Epoch [17/25]. Step [301/372]. Loss: 0.021. Acc: 0.307. Test acc: 0.246\n",
            "Epoch [18/25]. Step [1/372]. Loss: 0.021. Acc: 0.320. Test acc: 0.224\n",
            "Epoch [18/25]. Step [301/372]. Loss: 0.021. Acc: 0.307. Test acc: 0.249\n",
            "Epoch [19/25]. Step [1/372]. Loss: 0.021. Acc: 0.250. Test acc: 0.239\n",
            "Epoch [19/25]. Step [301/372]. Loss: 0.021. Acc: 0.314. Test acc: 0.236\n",
            "Epoch [20/25]. Step [1/372]. Loss: 0.021. Acc: 0.344. Test acc: 0.238\n",
            "Epoch [20/25]. Step [301/372]. Loss: 0.021. Acc: 0.317. Test acc: 0.236\n",
            "Epoch [21/25]. Step [1/372]. Loss: 0.021. Acc: 0.273. Test acc: 0.240\n",
            "Epoch [21/25]. Step [301/372]. Loss: 0.021. Acc: 0.320. Test acc: 0.240\n",
            "Epoch [22/25]. Step [1/372]. Loss: 0.020. Acc: 0.375. Test acc: 0.247\n",
            "Epoch [22/25]. Step [301/372]. Loss: 0.021. Acc: 0.323. Test acc: 0.246\n",
            "Epoch [23/25]. Step [1/372]. Loss: 0.021. Acc: 0.266. Test acc: 0.234\n",
            "Epoch [23/25]. Step [301/372]. Loss: 0.021. Acc: 0.323. Test acc: 0.258\n",
            "Epoch [24/25]. Step [1/372]. Loss: 0.023. Acc: 0.320. Test acc: 0.242\n",
            "Epoch [24/25]. Step [301/372]. Loss: 0.021. Acc: 0.325. Test acc: 0.237\n",
            "Epoch [25/25]. Step [1/372]. Loss: 0.021. Acc: 0.312. Test acc: 0.238\n",
            "Epoch [25/25]. Step [301/372]. Loss: 0.020. Acc: 0.334. Test acc: 0.267\n",
            "Training is finished!\n"
          ]
        }
      ],
      "source": [
        "num_epochs = 25\n",
        "net.train()\n",
        "\n",
        "for epoch in range(num_epochs):  \n",
        "    running_loss, running_items, running_right = 0.0, 0.0, 0.0\n",
        "    for i, data in enumerate(train_loader, 0):\n",
        "        inputs, labels = data[0].to(device), data[1].to(device)\n",
        "\n",
        "        # обнуляем градиент\n",
        "        optimizer.zero_grad()\n",
        "\n",
        "        outputs = net(inputs)\n",
        "        loss = criterion(outputs, labels)\n",
        "        loss.backward()\n",
        "        optimizer.step()\n",
        "\n",
        "        # выводим статистику о процессе обучения\n",
        "        running_loss += loss.item()\n",
        "        running_items += len(labels)\n",
        "        running_right += (labels == torch.max(outputs, 1)[1]).sum()\n",
        "        \n",
        "        # выводим статистику о процессе обучения\n",
        "        if i % 300 == 0:    # печатаем каждые 300 mini-batches\n",
        "            net.eval()\n",
        "            \n",
        "            print(f'Epoch [{epoch + 1}/{num_epochs}]. ' \\\n",
        "                  f'Step [{i + 1}/{len(train_loader)}]. ' \\\n",
        "                  f'Loss: {running_loss / running_items:.3f}. ' \\\n",
        "                  f'Acc: {running_right / running_items:.3f}', end='. ')\n",
        "            running_loss, running_items, running_right = 0.0, 0.0, 0.0\n",
        "\n",
        "            test_running_right, test_running_total = 0.0, 0.0\n",
        "            for i, data in enumerate(valid_loader):\n",
        "            \n",
        "                test_outputs = net(data[0].to(device))\n",
        "                test_running_total += len(data[1])\n",
        "                test_running_right += (data[1].to(device) == torch.max(test_outputs, 1)[1]).sum()\n",
        "            \n",
        "            print(f'Test acc: {test_running_right / test_running_total:.3f}')\n",
        "        \n",
        "        net.train()\n",
        "        \n",
        "print('Training is finished!')"
      ]
    },
    {
      "cell_type": "markdown",
      "source": [
        "Вопросы:\n",
        "\n",
        "А. Что сложней в обучении :\n",
        "\n",
        "    AlexNet\n",
        "    LeNet\n",
        "    VGG16\n",
        "\n",
        "В. Почему сеть, которую выбрали, сложней обучать:\n",
        "\n",
        "    Много параметров\n",
        "    Затухающий градиент\n",
        "    Очень глубокая\n",
        "    Не удачные активационные функции\n",
        "    Плохие данные\n",
        "\n",
        "С. Зачем делаем перенос обучения:\n",
        "\n",
        "    Это удобно\n",
        "    Это экономит наше время обучения\n",
        "    Это позволит решить задачи лучше\n",
        "\n",
        "D. Определите размер карты признаков на выходе, если на вход слоя свертки пришел тензор 1х128х100х100, а сверточный слой имеет фильтр размера 3, шаг = 1 и использует заполнение 0\n",
        "\n",
        "E. Определите размер карты признаков на выходе, если на вход слоя пуллинга пришел тензор 1х128х100х100, а сверточный слой имеет фильтр размера 2, шаг = 2 и использует заполнение 0\n",
        "\n",
        "​\n",
        "\n"
      ],
      "metadata": {
        "id": "EmC28p2DpT5H"
      },
      "id": "EmC28p2DpT5H"
    },
    {
      "cell_type": "markdown",
      "source": [
        "LeNet свёрточная нейросеть, использующая последовательность из трёх видов слоёв: convolution,pooling\n",
        "и слои нелинейности. В AlexNet результаты вычислений LeNet масштабированы в гораздо более крупную нейросеть,\n",
        "которая способна изучить намного более сложные объекты и их иерархии.В разработанных в Оксфорде VGG-сетях\n",
        "в каждом свёрточном слое впервые применили фильтры 3х3 и объединили эти слои в последовательности свёрток.\n",
        "Вместо применяемых в AlexNet фильтров 9х9 и 11х11 стали применять гораздо более мелкие фильтры, которых старались\n",
        "избежать авторы LeNet. Но большим преимуществом VGG стала находка, что несколько свёрток 3х3, объединённых в \n",
        "последовательность, могут эмулировать более крупные свертки, например, 5х5 или 7х7.\n",
        "Конечно, в большей степени ответ зависит от задачи. Для сложных задач нужна сложная сеть,\n",
        "а для простых оптимальнее выбирать простые сетки."
      ],
      "metadata": {
        "id": "HTZ_ou5EpVzO"
      },
      "id": "HTZ_ou5EpVzO"
    },
    {
      "cell_type": "markdown",
      "source": [
        "Например VGG16, сложности - глубокая, проблема затухающего градиента, много параметров"
      ],
      "metadata": {
        "id": "22A_CKvBpY_Z"
      },
      "id": "22A_CKvBpY_Z"
    },
    {
      "cell_type": "markdown",
      "source": [
        "Претренерованные сети очень удобно. Проект глубокого обучения можно относительно быстро реализовать, если взять \n",
        "предварительно обученную модель, которая использует знания, полученные во время обучения, и адаптировать\n",
        "ее к поставленной задаче. Написать можно всего лишь три строки кода."
      ],
      "metadata": {
        "id": "WUXycGNxpbZ7"
      },
      "id": "WUXycGNxpbZ7"
    },
    {
      "cell_type": "markdown",
      "source": [
        "1х1х98х98"
      ],
      "metadata": {
        "id": "OE86vCiEpfHS"
      },
      "id": "OE86vCiEpfHS"
    },
    {
      "cell_type": "markdown",
      "source": [
        "1х1х50х50"
      ],
      "metadata": {
        "id": "fgOwaDqspf6E"
      },
      "id": "fgOwaDqspf6E"
    }
  ],
  "metadata": {
    "kernelspec": {
      "display_name": "Python 3 (ipykernel)",
      "language": "python",
      "name": "python3"
    },
    "language_info": {
      "codemirror_mode": {
        "name": "ipython",
        "version": 3
      },
      "file_extension": ".py",
      "mimetype": "text/x-python",
      "name": "python",
      "nbconvert_exporter": "python",
      "pygments_lexer": "ipython3",
      "version": "3.9.12"
    },
    "colab": {
      "provenance": []
    },
    "gpuClass": "standard",
    "accelerator": "GPU",
    "widgets": {
      "application/vnd.jupyter.widget-state+json": {
        "0d3f70391a6048428c357b4873e38b2a": {
          "model_module": "@jupyter-widgets/controls",
          "model_name": "HBoxModel",
          "model_module_version": "1.5.0",
          "state": {
            "_dom_classes": [],
            "_model_module": "@jupyter-widgets/controls",
            "_model_module_version": "1.5.0",
            "_model_name": "HBoxModel",
            "_view_count": null,
            "_view_module": "@jupyter-widgets/controls",
            "_view_module_version": "1.5.0",
            "_view_name": "HBoxView",
            "box_style": "",
            "children": [
              "IPY_MODEL_a72f9f8848284c57b1d4d101557f0d98",
              "IPY_MODEL_57f7ed4bc6f44a21ade16136614d8f1e",
              "IPY_MODEL_91e35c93b2b94e6785fdf446deeb4b2c"
            ],
            "layout": "IPY_MODEL_ebff4cf5a94e42e48ab044475c253949"
          }
        },
        "a72f9f8848284c57b1d4d101557f0d98": {
          "model_module": "@jupyter-widgets/controls",
          "model_name": "HTMLModel",
          "model_module_version": "1.5.0",
          "state": {
            "_dom_classes": [],
            "_model_module": "@jupyter-widgets/controls",
            "_model_module_version": "1.5.0",
            "_model_name": "HTMLModel",
            "_view_count": null,
            "_view_module": "@jupyter-widgets/controls",
            "_view_module_version": "1.5.0",
            "_view_name": "HTMLView",
            "description": "",
            "description_tooltip": null,
            "layout": "IPY_MODEL_4066848ee0bf42fb9d570473bf12929c",
            "placeholder": "​",
            "style": "IPY_MODEL_23f6b34a008642aba5783bd253b1be2b",
            "value": "100%"
          }
        },
        "57f7ed4bc6f44a21ade16136614d8f1e": {
          "model_module": "@jupyter-widgets/controls",
          "model_name": "FloatProgressModel",
          "model_module_version": "1.5.0",
          "state": {
            "_dom_classes": [],
            "_model_module": "@jupyter-widgets/controls",
            "_model_module_version": "1.5.0",
            "_model_name": "FloatProgressModel",
            "_view_count": null,
            "_view_module": "@jupyter-widgets/controls",
            "_view_module_version": "1.5.0",
            "_view_name": "ProgressView",
            "bar_style": "success",
            "description": "",
            "description_tooltip": null,
            "layout": "IPY_MODEL_a8e6370de1824aba90f9388f1557dab1",
            "max": 169001437,
            "min": 0,
            "orientation": "horizontal",
            "style": "IPY_MODEL_5bc735a3f6ee4d18b688c9556228ceaf",
            "value": 169001437
          }
        },
        "91e35c93b2b94e6785fdf446deeb4b2c": {
          "model_module": "@jupyter-widgets/controls",
          "model_name": "HTMLModel",
          "model_module_version": "1.5.0",
          "state": {
            "_dom_classes": [],
            "_model_module": "@jupyter-widgets/controls",
            "_model_module_version": "1.5.0",
            "_model_name": "HTMLModel",
            "_view_count": null,
            "_view_module": "@jupyter-widgets/controls",
            "_view_module_version": "1.5.0",
            "_view_name": "HTMLView",
            "description": "",
            "description_tooltip": null,
            "layout": "IPY_MODEL_196404eff34148a99ebae43d9ab3cab0",
            "placeholder": "​",
            "style": "IPY_MODEL_865fe7b813ed4f58baea7002980bb53c",
            "value": " 169001437/169001437 [00:06&lt;00:00, 30216919.51it/s]"
          }
        },
        "ebff4cf5a94e42e48ab044475c253949": {
          "model_module": "@jupyter-widgets/base",
          "model_name": "LayoutModel",
          "model_module_version": "1.2.0",
          "state": {
            "_model_module": "@jupyter-widgets/base",
            "_model_module_version": "1.2.0",
            "_model_name": "LayoutModel",
            "_view_count": null,
            "_view_module": "@jupyter-widgets/base",
            "_view_module_version": "1.2.0",
            "_view_name": "LayoutView",
            "align_content": null,
            "align_items": null,
            "align_self": null,
            "border": null,
            "bottom": null,
            "display": null,
            "flex": null,
            "flex_flow": null,
            "grid_area": null,
            "grid_auto_columns": null,
            "grid_auto_flow": null,
            "grid_auto_rows": null,
            "grid_column": null,
            "grid_gap": null,
            "grid_row": null,
            "grid_template_areas": null,
            "grid_template_columns": null,
            "grid_template_rows": null,
            "height": null,
            "justify_content": null,
            "justify_items": null,
            "left": null,
            "margin": null,
            "max_height": null,
            "max_width": null,
            "min_height": null,
            "min_width": null,
            "object_fit": null,
            "object_position": null,
            "order": null,
            "overflow": null,
            "overflow_x": null,
            "overflow_y": null,
            "padding": null,
            "right": null,
            "top": null,
            "visibility": null,
            "width": null
          }
        },
        "4066848ee0bf42fb9d570473bf12929c": {
          "model_module": "@jupyter-widgets/base",
          "model_name": "LayoutModel",
          "model_module_version": "1.2.0",
          "state": {
            "_model_module": "@jupyter-widgets/base",
            "_model_module_version": "1.2.0",
            "_model_name": "LayoutModel",
            "_view_count": null,
            "_view_module": "@jupyter-widgets/base",
            "_view_module_version": "1.2.0",
            "_view_name": "LayoutView",
            "align_content": null,
            "align_items": null,
            "align_self": null,
            "border": null,
            "bottom": null,
            "display": null,
            "flex": null,
            "flex_flow": null,
            "grid_area": null,
            "grid_auto_columns": null,
            "grid_auto_flow": null,
            "grid_auto_rows": null,
            "grid_column": null,
            "grid_gap": null,
            "grid_row": null,
            "grid_template_areas": null,
            "grid_template_columns": null,
            "grid_template_rows": null,
            "height": null,
            "justify_content": null,
            "justify_items": null,
            "left": null,
            "margin": null,
            "max_height": null,
            "max_width": null,
            "min_height": null,
            "min_width": null,
            "object_fit": null,
            "object_position": null,
            "order": null,
            "overflow": null,
            "overflow_x": null,
            "overflow_y": null,
            "padding": null,
            "right": null,
            "top": null,
            "visibility": null,
            "width": null
          }
        },
        "23f6b34a008642aba5783bd253b1be2b": {
          "model_module": "@jupyter-widgets/controls",
          "model_name": "DescriptionStyleModel",
          "model_module_version": "1.5.0",
          "state": {
            "_model_module": "@jupyter-widgets/controls",
            "_model_module_version": "1.5.0",
            "_model_name": "DescriptionStyleModel",
            "_view_count": null,
            "_view_module": "@jupyter-widgets/base",
            "_view_module_version": "1.2.0",
            "_view_name": "StyleView",
            "description_width": ""
          }
        },
        "a8e6370de1824aba90f9388f1557dab1": {
          "model_module": "@jupyter-widgets/base",
          "model_name": "LayoutModel",
          "model_module_version": "1.2.0",
          "state": {
            "_model_module": "@jupyter-widgets/base",
            "_model_module_version": "1.2.0",
            "_model_name": "LayoutModel",
            "_view_count": null,
            "_view_module": "@jupyter-widgets/base",
            "_view_module_version": "1.2.0",
            "_view_name": "LayoutView",
            "align_content": null,
            "align_items": null,
            "align_self": null,
            "border": null,
            "bottom": null,
            "display": null,
            "flex": null,
            "flex_flow": null,
            "grid_area": null,
            "grid_auto_columns": null,
            "grid_auto_flow": null,
            "grid_auto_rows": null,
            "grid_column": null,
            "grid_gap": null,
            "grid_row": null,
            "grid_template_areas": null,
            "grid_template_columns": null,
            "grid_template_rows": null,
            "height": null,
            "justify_content": null,
            "justify_items": null,
            "left": null,
            "margin": null,
            "max_height": null,
            "max_width": null,
            "min_height": null,
            "min_width": null,
            "object_fit": null,
            "object_position": null,
            "order": null,
            "overflow": null,
            "overflow_x": null,
            "overflow_y": null,
            "padding": null,
            "right": null,
            "top": null,
            "visibility": null,
            "width": null
          }
        },
        "5bc735a3f6ee4d18b688c9556228ceaf": {
          "model_module": "@jupyter-widgets/controls",
          "model_name": "ProgressStyleModel",
          "model_module_version": "1.5.0",
          "state": {
            "_model_module": "@jupyter-widgets/controls",
            "_model_module_version": "1.5.0",
            "_model_name": "ProgressStyleModel",
            "_view_count": null,
            "_view_module": "@jupyter-widgets/base",
            "_view_module_version": "1.2.0",
            "_view_name": "StyleView",
            "bar_color": null,
            "description_width": ""
          }
        },
        "196404eff34148a99ebae43d9ab3cab0": {
          "model_module": "@jupyter-widgets/base",
          "model_name": "LayoutModel",
          "model_module_version": "1.2.0",
          "state": {
            "_model_module": "@jupyter-widgets/base",
            "_model_module_version": "1.2.0",
            "_model_name": "LayoutModel",
            "_view_count": null,
            "_view_module": "@jupyter-widgets/base",
            "_view_module_version": "1.2.0",
            "_view_name": "LayoutView",
            "align_content": null,
            "align_items": null,
            "align_self": null,
            "border": null,
            "bottom": null,
            "display": null,
            "flex": null,
            "flex_flow": null,
            "grid_area": null,
            "grid_auto_columns": null,
            "grid_auto_flow": null,
            "grid_auto_rows": null,
            "grid_column": null,
            "grid_gap": null,
            "grid_row": null,
            "grid_template_areas": null,
            "grid_template_columns": null,
            "grid_template_rows": null,
            "height": null,
            "justify_content": null,
            "justify_items": null,
            "left": null,
            "margin": null,
            "max_height": null,
            "max_width": null,
            "min_height": null,
            "min_width": null,
            "object_fit": null,
            "object_position": null,
            "order": null,
            "overflow": null,
            "overflow_x": null,
            "overflow_y": null,
            "padding": null,
            "right": null,
            "top": null,
            "visibility": null,
            "width": null
          }
        },
        "865fe7b813ed4f58baea7002980bb53c": {
          "model_module": "@jupyter-widgets/controls",
          "model_name": "DescriptionStyleModel",
          "model_module_version": "1.5.0",
          "state": {
            "_model_module": "@jupyter-widgets/controls",
            "_model_module_version": "1.5.0",
            "_model_name": "DescriptionStyleModel",
            "_view_count": null,
            "_view_module": "@jupyter-widgets/base",
            "_view_module_version": "1.2.0",
            "_view_name": "StyleView",
            "description_width": ""
          }
        }
      }
    }
  },
  "nbformat": 4,
  "nbformat_minor": 5
}