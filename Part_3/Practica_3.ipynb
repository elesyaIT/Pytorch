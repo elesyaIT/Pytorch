{
  "cells": [
    {
      "cell_type": "code",
      "source": [
        "# from google.colab import drive\n",
        "# drive.mount('/content/drive')"
      ],
      "metadata": {
        "id": "15HPi-LHyCwd"
      },
      "id": "15HPi-LHyCwd",
      "execution_count": 294,
      "outputs": []
    },
    {
      "cell_type": "code",
      "source": [
        "# !nvidia-smi"
      ],
      "metadata": {
        "id": "tsWsERkgyDbI"
      },
      "id": "tsWsERkgyDbI",
      "execution_count": 295,
      "outputs": []
    },
    {
      "cell_type": "code",
      "source": [
        "import numpy as np\n",
        "import pandas as pd\n",
        "\n",
        "import matplotlib.pyplot as plt\n",
        "import matplotlib.colors as colors\n",
        "import matplotlib.cm as cmx\n",
        "import seaborn as sns\n",
        "\n",
        "from sklearn.datasets import fetch_california_housing\n",
        "from sklearn.preprocessing import StandardScaler\n",
        "from sklearn.model_selection import train_test_split\n",
        "from sklearn.metrics import r2_score\n",
        "\n",
        "import tensorflow as tf\n",
        "import torch\n",
        "import torch.nn as nn\n",
        "import torch.nn.functional as F\n",
        "\n",
        "%matplotlib inline"
      ],
      "metadata": {
        "id": "1fbUpJeqylA_"
      },
      "id": "1fbUpJeqylA_",
      "execution_count": 296,
      "outputs": []
    },
    {
      "cell_type": "code",
      "source": [
        "tf.random.set_seed(1)"
      ],
      "metadata": {
        "id": "-aI9ep5J8wQ1"
      },
      "id": "-aI9ep5J8wQ1",
      "execution_count": 297,
      "outputs": []
    },
    {
      "cell_type": "code",
      "source": [
        "california = fetch_california_housing()\n",
        "feature_names = california.feature_names\n",
        "data = california.data\n",
        "df = pd.DataFrame(data, columns=feature_names)\n",
        "df['target'] = california.target\n",
        "df.head()"
      ],
      "metadata": {
        "id": "B8Qpdqt4znSv",
        "outputId": "e459865e-0b99-4eae-b1f4-cb060735e1d9",
        "colab": {
          "base_uri": "https://localhost:8080/",
          "height": 206
        }
      },
      "id": "B8Qpdqt4znSv",
      "execution_count": 298,
      "outputs": [
        {
          "output_type": "execute_result",
          "data": {
            "text/plain": [
              "   MedInc  HouseAge  AveRooms  AveBedrms  Population  AveOccup  Latitude  \\\n",
              "0  8.3252      41.0  6.984127   1.023810       322.0  2.555556     37.88   \n",
              "1  8.3014      21.0  6.238137   0.971880      2401.0  2.109842     37.86   \n",
              "2  7.2574      52.0  8.288136   1.073446       496.0  2.802260     37.85   \n",
              "3  5.6431      52.0  5.817352   1.073059       558.0  2.547945     37.85   \n",
              "4  3.8462      52.0  6.281853   1.081081       565.0  2.181467     37.85   \n",
              "\n",
              "   Longitude  target  \n",
              "0    -122.23   4.526  \n",
              "1    -122.22   3.585  \n",
              "2    -122.24   3.521  \n",
              "3    -122.25   3.413  \n",
              "4    -122.25   3.422  "
            ],
            "text/html": [
              "\n",
              "  <div id=\"df-dab3274e-a620-4cc0-8964-488a2f9f3e54\">\n",
              "    <div class=\"colab-df-container\">\n",
              "      <div>\n",
              "<style scoped>\n",
              "    .dataframe tbody tr th:only-of-type {\n",
              "        vertical-align: middle;\n",
              "    }\n",
              "\n",
              "    .dataframe tbody tr th {\n",
              "        vertical-align: top;\n",
              "    }\n",
              "\n",
              "    .dataframe thead th {\n",
              "        text-align: right;\n",
              "    }\n",
              "</style>\n",
              "<table border=\"1\" class=\"dataframe\">\n",
              "  <thead>\n",
              "    <tr style=\"text-align: right;\">\n",
              "      <th></th>\n",
              "      <th>MedInc</th>\n",
              "      <th>HouseAge</th>\n",
              "      <th>AveRooms</th>\n",
              "      <th>AveBedrms</th>\n",
              "      <th>Population</th>\n",
              "      <th>AveOccup</th>\n",
              "      <th>Latitude</th>\n",
              "      <th>Longitude</th>\n",
              "      <th>target</th>\n",
              "    </tr>\n",
              "  </thead>\n",
              "  <tbody>\n",
              "    <tr>\n",
              "      <th>0</th>\n",
              "      <td>8.3252</td>\n",
              "      <td>41.0</td>\n",
              "      <td>6.984127</td>\n",
              "      <td>1.023810</td>\n",
              "      <td>322.0</td>\n",
              "      <td>2.555556</td>\n",
              "      <td>37.88</td>\n",
              "      <td>-122.23</td>\n",
              "      <td>4.526</td>\n",
              "    </tr>\n",
              "    <tr>\n",
              "      <th>1</th>\n",
              "      <td>8.3014</td>\n",
              "      <td>21.0</td>\n",
              "      <td>6.238137</td>\n",
              "      <td>0.971880</td>\n",
              "      <td>2401.0</td>\n",
              "      <td>2.109842</td>\n",
              "      <td>37.86</td>\n",
              "      <td>-122.22</td>\n",
              "      <td>3.585</td>\n",
              "    </tr>\n",
              "    <tr>\n",
              "      <th>2</th>\n",
              "      <td>7.2574</td>\n",
              "      <td>52.0</td>\n",
              "      <td>8.288136</td>\n",
              "      <td>1.073446</td>\n",
              "      <td>496.0</td>\n",
              "      <td>2.802260</td>\n",
              "      <td>37.85</td>\n",
              "      <td>-122.24</td>\n",
              "      <td>3.521</td>\n",
              "    </tr>\n",
              "    <tr>\n",
              "      <th>3</th>\n",
              "      <td>5.6431</td>\n",
              "      <td>52.0</td>\n",
              "      <td>5.817352</td>\n",
              "      <td>1.073059</td>\n",
              "      <td>558.0</td>\n",
              "      <td>2.547945</td>\n",
              "      <td>37.85</td>\n",
              "      <td>-122.25</td>\n",
              "      <td>3.413</td>\n",
              "    </tr>\n",
              "    <tr>\n",
              "      <th>4</th>\n",
              "      <td>3.8462</td>\n",
              "      <td>52.0</td>\n",
              "      <td>6.281853</td>\n",
              "      <td>1.081081</td>\n",
              "      <td>565.0</td>\n",
              "      <td>2.181467</td>\n",
              "      <td>37.85</td>\n",
              "      <td>-122.25</td>\n",
              "      <td>3.422</td>\n",
              "    </tr>\n",
              "  </tbody>\n",
              "</table>\n",
              "</div>\n",
              "      <button class=\"colab-df-convert\" onclick=\"convertToInteractive('df-dab3274e-a620-4cc0-8964-488a2f9f3e54')\"\n",
              "              title=\"Convert this dataframe to an interactive table.\"\n",
              "              style=\"display:none;\">\n",
              "        \n",
              "  <svg xmlns=\"http://www.w3.org/2000/svg\" height=\"24px\"viewBox=\"0 0 24 24\"\n",
              "       width=\"24px\">\n",
              "    <path d=\"M0 0h24v24H0V0z\" fill=\"none\"/>\n",
              "    <path d=\"M18.56 5.44l.94 2.06.94-2.06 2.06-.94-2.06-.94-.94-2.06-.94 2.06-2.06.94zm-11 1L8.5 8.5l.94-2.06 2.06-.94-2.06-.94L8.5 2.5l-.94 2.06-2.06.94zm10 10l.94 2.06.94-2.06 2.06-.94-2.06-.94-.94-2.06-.94 2.06-2.06.94z\"/><path d=\"M17.41 7.96l-1.37-1.37c-.4-.4-.92-.59-1.43-.59-.52 0-1.04.2-1.43.59L10.3 9.45l-7.72 7.72c-.78.78-.78 2.05 0 2.83L4 21.41c.39.39.9.59 1.41.59.51 0 1.02-.2 1.41-.59l7.78-7.78 2.81-2.81c.8-.78.8-2.07 0-2.86zM5.41 20L4 18.59l7.72-7.72 1.47 1.35L5.41 20z\"/>\n",
              "  </svg>\n",
              "      </button>\n",
              "      \n",
              "  <style>\n",
              "    .colab-df-container {\n",
              "      display:flex;\n",
              "      flex-wrap:wrap;\n",
              "      gap: 12px;\n",
              "    }\n",
              "\n",
              "    .colab-df-convert {\n",
              "      background-color: #E8F0FE;\n",
              "      border: none;\n",
              "      border-radius: 50%;\n",
              "      cursor: pointer;\n",
              "      display: none;\n",
              "      fill: #1967D2;\n",
              "      height: 32px;\n",
              "      padding: 0 0 0 0;\n",
              "      width: 32px;\n",
              "    }\n",
              "\n",
              "    .colab-df-convert:hover {\n",
              "      background-color: #E2EBFA;\n",
              "      box-shadow: 0px 1px 2px rgba(60, 64, 67, 0.3), 0px 1px 3px 1px rgba(60, 64, 67, 0.15);\n",
              "      fill: #174EA6;\n",
              "    }\n",
              "\n",
              "    [theme=dark] .colab-df-convert {\n",
              "      background-color: #3B4455;\n",
              "      fill: #D2E3FC;\n",
              "    }\n",
              "\n",
              "    [theme=dark] .colab-df-convert:hover {\n",
              "      background-color: #434B5C;\n",
              "      box-shadow: 0px 1px 3px 1px rgba(0, 0, 0, 0.15);\n",
              "      filter: drop-shadow(0px 1px 2px rgba(0, 0, 0, 0.3));\n",
              "      fill: #FFFFFF;\n",
              "    }\n",
              "  </style>\n",
              "\n",
              "      <script>\n",
              "        const buttonEl =\n",
              "          document.querySelector('#df-dab3274e-a620-4cc0-8964-488a2f9f3e54 button.colab-df-convert');\n",
              "        buttonEl.style.display =\n",
              "          google.colab.kernel.accessAllowed ? 'block' : 'none';\n",
              "\n",
              "        async function convertToInteractive(key) {\n",
              "          const element = document.querySelector('#df-dab3274e-a620-4cc0-8964-488a2f9f3e54');\n",
              "          const dataTable =\n",
              "            await google.colab.kernel.invokeFunction('convertToInteractive',\n",
              "                                                     [key], {});\n",
              "          if (!dataTable) return;\n",
              "\n",
              "          const docLinkHtml = 'Like what you see? Visit the ' +\n",
              "            '<a target=\"_blank\" href=https://colab.research.google.com/notebooks/data_table.ipynb>data table notebook</a>'\n",
              "            + ' to learn more about interactive tables.';\n",
              "          element.innerHTML = '';\n",
              "          dataTable['output_type'] = 'display_data';\n",
              "          await google.colab.output.renderOutput(dataTable, element);\n",
              "          const docLink = document.createElement('div');\n",
              "          docLink.innerHTML = docLinkHtml;\n",
              "          element.appendChild(docLink);\n",
              "        }\n",
              "      </script>\n",
              "    </div>\n",
              "  </div>\n",
              "  "
            ]
          },
          "metadata": {},
          "execution_count": 298
        }
      ]
    },
    {
      "cell_type": "code",
      "source": [
        "df.info()"
      ],
      "metadata": {
        "id": "sCtF_yuy0MDJ",
        "outputId": "0d2fef16-b05e-417c-e95a-6acaf3128d33",
        "colab": {
          "base_uri": "https://localhost:8080/"
        }
      },
      "id": "sCtF_yuy0MDJ",
      "execution_count": 299,
      "outputs": [
        {
          "output_type": "stream",
          "name": "stdout",
          "text": [
            "<class 'pandas.core.frame.DataFrame'>\n",
            "RangeIndex: 20640 entries, 0 to 20639\n",
            "Data columns (total 9 columns):\n",
            " #   Column      Non-Null Count  Dtype  \n",
            "---  ------      --------------  -----  \n",
            " 0   MedInc      20640 non-null  float64\n",
            " 1   HouseAge    20640 non-null  float64\n",
            " 2   AveRooms    20640 non-null  float64\n",
            " 3   AveBedrms   20640 non-null  float64\n",
            " 4   Population  20640 non-null  float64\n",
            " 5   AveOccup    20640 non-null  float64\n",
            " 6   Latitude    20640 non-null  float64\n",
            " 7   Longitude   20640 non-null  float64\n",
            " 8   target      20640 non-null  float64\n",
            "dtypes: float64(9)\n",
            "memory usage: 1.4 MB\n"
          ]
        }
      ]
    },
    {
      "cell_type": "code",
      "source": [
        "df.shape"
      ],
      "metadata": {
        "id": "m6wUoZTVPbvC",
        "outputId": "1a795eb6-31d0-4de7-e129-a964fb31631f",
        "colab": {
          "base_uri": "https://localhost:8080/"
        }
      },
      "id": "m6wUoZTVPbvC",
      "execution_count": 300,
      "outputs": [
        {
          "output_type": "execute_result",
          "data": {
            "text/plain": [
              "(20640, 9)"
            ]
          },
          "metadata": {},
          "execution_count": 300
        }
      ]
    },
    {
      "cell_type": "code",
      "source": [
        "y = df['target'].copy()\n",
        "X = df.drop('target', axis=1).copy()"
      ],
      "metadata": {
        "id": "oUNVgvrS0c51"
      },
      "id": "oUNVgvrS0c51",
      "execution_count": 301,
      "outputs": []
    },
    {
      "cell_type": "code",
      "source": [
        "scaler = StandardScaler()\n",
        "X = scaler.fit_transform(X)"
      ],
      "metadata": {
        "id": "iWf3Zktz10mC"
      },
      "id": "iWf3Zktz10mC",
      "execution_count": 302,
      "outputs": []
    },
    {
      "cell_type": "code",
      "source": [
        "tf_X_train, tf_X_test, tf_y_train, tf_y_test = train_test_split(X, y, test_size = 0.25, random_state=13)\n",
        "print(tf_X_train.shape, type(tf_X_train))\n",
        "print(tf_X_test.shape, type(tf_X_test))\n",
        "print(tf_y_train.shape, type(tf_y_train))\n",
        "print(tf_y_test.shape, type(tf_y_test))"
      ],
      "metadata": {
        "id": "uOrd4-8415Fj",
        "outputId": "aa89e036-9467-4fa7-d9b0-c033158a14ad",
        "colab": {
          "base_uri": "https://localhost:8080/"
        }
      },
      "id": "uOrd4-8415Fj",
      "execution_count": 303,
      "outputs": [
        {
          "output_type": "stream",
          "name": "stdout",
          "text": [
            "(15480, 8) <class 'numpy.ndarray'>\n",
            "(5160, 8) <class 'numpy.ndarray'>\n",
            "(15480,) <class 'pandas.core.series.Series'>\n",
            "(5160,) <class 'pandas.core.series.Series'>\n"
          ]
        }
      ]
    },
    {
      "cell_type": "code",
      "source": [
        "class Net(nn.Module):\n",
        "    \n",
        "    def __init__(self):\n",
        "        super(Net, self).__init__()\n",
        "        self.layer1 = nn.Linear(8, 64)\n",
        "        self.layer2 = nn.Linear(64, 64)\n",
        "        self.bn = nn.BatchNorm1d(64)\n",
        "        self.dp = nn.Dropout(0.25)\n",
        "        self.out = nn.Linear(64, 1)\n",
        "    \n",
        "    def forward(self, x):\n",
        "        x = F.relu(self.layer1(x))\n",
        "        x = F.relu(self.layer2(x))\n",
        "        x = self.dp(x)\n",
        "        x = self.bn(x)\n",
        "        x = self.out(x)\n",
        "        return x\n",
        "\n",
        "net = Net()"
      ],
      "metadata": {
        "id": "L0PmYgejCp8x"
      },
      "id": "L0PmYgejCp8x",
      "execution_count": 304,
      "outputs": []
    },
    {
      "cell_type": "code",
      "source": [
        "for i in range(len(list(net.parameters()))):\n",
        "  print(list(net.parameters())[i].shape)"
      ],
      "metadata": {
        "id": "ZTyMf4TNFB8w",
        "outputId": "453810b4-eb14-4b21-df30-d92db39d5f2a",
        "colab": {
          "base_uri": "https://localhost:8080/"
        }
      },
      "id": "ZTyMf4TNFB8w",
      "execution_count": 305,
      "outputs": [
        {
          "output_type": "stream",
          "name": "stdout",
          "text": [
            "torch.Size([64, 8])\n",
            "torch.Size([64])\n",
            "torch.Size([64, 64])\n",
            "torch.Size([64])\n",
            "torch.Size([64])\n",
            "torch.Size([64])\n",
            "torch.Size([1, 64])\n",
            "torch.Size([1])\n"
          ]
        }
      ]
    },
    {
      "cell_type": "code",
      "source": [
        "class MyCalifornia(torch.utils.data.Dataset):\n",
        "    \n",
        "    def __init__(self,df_train, y_train):\n",
        "        \n",
        "        self.x=torch.tensor(df_train).type(torch.float32)\n",
        "        self.y = torch.tensor(np.array(y_train)).type(torch.float32)\n",
        "        self.n_samples= df_train.shape[0]\n",
        "        \n",
        "    \n",
        "    def __getitem__(self, index):\n",
        "        \n",
        "        return self.x[index], self.y[index]\n",
        "        \n",
        "    def __len__(self):\n",
        "        return self.n_samples"
      ],
      "metadata": {
        "id": "2EeWwooyN51v"
      },
      "id": "2EeWwooyN51v",
      "execution_count": 306,
      "outputs": []
    },
    {
      "cell_type": "code",
      "source": [
        "train_dataset =  MyCalifornia(tf_X_train, tf_y_train)"
      ],
      "metadata": {
        "id": "BDMDOlzRN6Y-"
      },
      "id": "BDMDOlzRN6Y-",
      "execution_count": 307,
      "outputs": []
    },
    {
      "cell_type": "code",
      "source": [
        "train_loader = torch.utils.data.DataLoader(train_dataset,\n",
        "                          batch_size=64,\n",
        "                          shuffle=True, num_workers=2)"
      ],
      "metadata": {
        "id": "c6akAEQbN6cK"
      },
      "id": "c6akAEQbN6cK",
      "execution_count": 308,
      "outputs": []
    },
    {
      "cell_type": "code",
      "source": [
        "test_dataset = MyCalifornia(tf_X_test, tf_y_test)\n",
        "\n",
        "test_loader = torch.utils.data.DataLoader(test_dataset, batch_size=32,\n",
        "                                          shuffle=False)"
      ],
      "metadata": {
        "id": "DyPLlXDXPCJr"
      },
      "id": "DyPLlXDXPCJr",
      "execution_count": 309,
      "outputs": []
    },
    {
      "cell_type": "code",
      "source": [
        "optimizer_1 = [torch.optim.Adam(net.parameters(), lr=0.01),\"Adam\"]\n",
        "optimizer_2 = [torch.optim.RMSprop(net.parameters(), lr=0.01, alpha=0.99),\"RMSprop\"]\n",
        "optimizer_4 = [torch.optim.Adagrad(net.parameters(), lr=0.01), \"Adagrad\"]\n",
        "optimizer_3 = [torch.optim.SGD(net.parameters(), lr=0.01),\"SGD\"]\n",
        "\n",
        "\n",
        "# optimizer =  torch.optim.Adam(net.parameters(), lr=0.01)\n",
        "criterion = nn.MSELoss()"
      ],
      "metadata": {
        "id": "EEV92t32GYQb"
      },
      "id": "EEV92t32GYQb",
      "execution_count": 310,
      "outputs": []
    },
    {
      "cell_type": "code",
      "source": [
        "num_epochs = 10\n",
        "valtable = []\n",
        "for optimizer in [optimizer_1, optimizer_2,optimizer_4,optimizer_3]:\n",
        "    print(\"\\n\\t\",optimizer[1])\n",
        "    optimizer=optimizer[0]\n",
        "    for epoch in range(num_epochs):\n",
        "      running_loss, running_items = 0.0, 0.0\n",
        "      for i, data in enumerate(train_loader):\n",
        "        inputs, labels = data[0], data[1]\n",
        "        # обнуляем градиент\n",
        "        optimizer.zero_grad()\n",
        "\n",
        "        outputs = net(inputs)\n",
        "        loss = criterion(outputs, labels)\n",
        "        loss.backward()\n",
        "        optimizer.step()\n",
        "\n",
        "        # выводим статистику о процессе обучения\n",
        "        running_loss += loss.item()\n",
        "        running_items += len(labels)\n",
        "\n",
        "        if i % 500 == 0:\n",
        "          net.eval()\n",
        "          print(f'Epoch [{epoch + 1}/{num_epochs}]. ' \\\n",
        "                  f'Step [{i + 1}/{len(train_loader)}]. ' \\\n",
        "                  f'Loss: {running_loss / running_items:.3f}', end='. ')\n",
        "          running_loss, running_items = 0.0, 0.0\n",
        "          \n",
        "          test_running_right, test_running_total = 0.0, 0.0\n",
        "          for i, data in enumerate(test_loader):\n",
        "            test_outputs = net(data[0])\n",
        "            def MSELoss(yhat,y):\n",
        "                return torch.mean((yhat-y)**2)\n",
        "\n",
        "            criter = MSELoss\n",
        "            test_running_total += len(data[1])\n",
        "            mse = criter(test_outputs,data[1])\n",
        "            test_running_right += mse\n",
        "\n",
        "          print(f\"test MSE {test_running_right / test_running_total:.3f}\")\n",
        "\n",
        "\n"
      ],
      "metadata": {
        "id": "48fKGcLdQFbU",
        "outputId": "004a3e9e-9f43-456a-e2c6-0724dce40f54",
        "colab": {
          "base_uri": "https://localhost:8080/"
        }
      },
      "id": "48fKGcLdQFbU",
      "execution_count": 311,
      "outputs": [
        {
          "output_type": "stream",
          "name": "stdout",
          "text": [
            "\n",
            "\t Adam\n",
            "Epoch [1/10]. Step [1/242]. Loss: 0.093. "
          ]
        },
        {
          "output_type": "stream",
          "name": "stderr",
          "text": [
            "/usr/local/lib/python3.7/dist-packages/torch/nn/modules/loss.py:530: UserWarning: Using a target size (torch.Size([64])) that is different to the input size (torch.Size([64, 1])). This will likely lead to incorrect results due to broadcasting. Please ensure they have the same size.\n",
            "  return F.mse_loss(input, target, reduction=self.reduction)\n"
          ]
        },
        {
          "output_type": "stream",
          "name": "stdout",
          "text": [
            "test MSE 0.181\n"
          ]
        },
        {
          "output_type": "stream",
          "name": "stderr",
          "text": [
            "/usr/local/lib/python3.7/dist-packages/torch/nn/modules/loss.py:530: UserWarning: Using a target size (torch.Size([56])) that is different to the input size (torch.Size([56, 1])). This will likely lead to incorrect results due to broadcasting. Please ensure they have the same size.\n",
            "  return F.mse_loss(input, target, reduction=self.reduction)\n"
          ]
        },
        {
          "output_type": "stream",
          "name": "stdout",
          "text": [
            "Epoch [2/10]. Step [1/242]. Loss: 0.020. test MSE 0.043\n",
            "Epoch [3/10]. Step [1/242]. Loss: 0.029. test MSE 0.043\n",
            "Epoch [4/10]. Step [1/242]. Loss: 0.019. test MSE 0.042\n",
            "Epoch [5/10]. Step [1/242]. Loss: 0.021. test MSE 0.043\n",
            "Epoch [6/10]. Step [1/242]. Loss: 0.027. test MSE 0.043\n",
            "Epoch [7/10]. Step [1/242]. Loss: 0.020. test MSE 0.042\n",
            "Epoch [8/10]. Step [1/242]. Loss: 0.016. test MSE 0.042\n",
            "Epoch [9/10]. Step [1/242]. Loss: 0.019. test MSE 0.043\n",
            "Epoch [10/10]. Step [1/242]. Loss: 0.020. test MSE 0.042\n",
            "\n",
            "\t RMSprop\n",
            "Epoch [1/10]. Step [1/242]. Loss: 0.019. test MSE 0.064\n",
            "Epoch [2/10]. Step [1/242]. Loss: 0.018. test MSE 0.043\n",
            "Epoch [3/10]. Step [1/242]. Loss: 0.024. test MSE 0.042\n",
            "Epoch [4/10]. Step [1/242]. Loss: 0.015. test MSE 0.043\n",
            "Epoch [5/10]. Step [1/242]. Loss: 0.028. test MSE 0.043\n",
            "Epoch [6/10]. Step [1/242]. Loss: 0.023. test MSE 0.042\n",
            "Epoch [7/10]. Step [1/242]. Loss: 0.017. test MSE 0.044\n",
            "Epoch [8/10]. Step [1/242]. Loss: 0.024. test MSE 0.043\n",
            "Epoch [9/10]. Step [1/242]. Loss: 0.014. test MSE 0.043\n",
            "Epoch [10/10]. Step [1/242]. Loss: 0.020. test MSE 0.042\n",
            "\n",
            "\t Adagrad\n",
            "Epoch [1/10]. Step [1/242]. Loss: 0.028. test MSE 0.043\n",
            "Epoch [2/10]. Step [1/242]. Loss: 0.022. test MSE 0.042\n",
            "Epoch [3/10]. Step [1/242]. Loss: 0.024. test MSE 0.042\n",
            "Epoch [4/10]. Step [1/242]. Loss: 0.022. test MSE 0.042\n",
            "Epoch [5/10]. Step [1/242]. Loss: 0.020. test MSE 0.042\n",
            "Epoch [6/10]. Step [1/242]. Loss: 0.017. test MSE 0.042\n",
            "Epoch [7/10]. Step [1/242]. Loss: 0.020. test MSE 0.042\n",
            "Epoch [8/10]. Step [1/242]. Loss: 0.015. test MSE 0.042\n",
            "Epoch [9/10]. Step [1/242]. Loss: 0.018. test MSE 0.042\n",
            "Epoch [10/10]. Step [1/242]. Loss: 0.020. test MSE 0.042\n",
            "\n",
            "\t SGD\n",
            "Epoch [1/10]. Step [1/242]. Loss: 0.017. test MSE 0.042\n",
            "Epoch [2/10]. Step [1/242]. Loss: 0.018. test MSE 0.042\n",
            "Epoch [3/10]. Step [1/242]. Loss: 0.021. test MSE 0.042\n",
            "Epoch [4/10]. Step [1/242]. Loss: 0.023. test MSE 0.042\n",
            "Epoch [5/10]. Step [1/242]. Loss: 0.022. test MSE 0.042\n",
            "Epoch [6/10]. Step [1/242]. Loss: 0.028. test MSE 0.042\n",
            "Epoch [7/10]. Step [1/242]. Loss: 0.022. test MSE 0.042\n",
            "Epoch [8/10]. Step [1/242]. Loss: 0.024. test MSE 0.042\n",
            "Epoch [9/10]. Step [1/242]. Loss: 0.019. test MSE 0.042\n",
            "Epoch [10/10]. Step [1/242]. Loss: 0.017. test MSE 0.042\n"
          ]
        }
      ]
    },
    {
      "cell_type": "code",
      "source": [],
      "metadata": {
        "id": "-KJeUg0UQFeV"
      },
      "id": "-KJeUg0UQFeV",
      "execution_count": 311,
      "outputs": []
    },
    {
      "cell_type": "code",
      "source": [],
      "metadata": {
        "id": "7tbVp0UrQFhI"
      },
      "id": "7tbVp0UrQFhI",
      "execution_count": 311,
      "outputs": []
    },
    {
      "cell_type": "code",
      "source": [],
      "metadata": {
        "id": "6mlAilzGQFjw"
      },
      "id": "6mlAilzGQFjw",
      "execution_count": 311,
      "outputs": []
    },
    {
      "cell_type": "code",
      "source": [],
      "metadata": {
        "id": "bNS9o4ZnQFl5"
      },
      "id": "bNS9o4ZnQFl5",
      "execution_count": 311,
      "outputs": []
    },
    {
      "cell_type": "code",
      "source": [],
      "metadata": {
        "id": "UpS_9qRcQFoo"
      },
      "id": "UpS_9qRcQFoo",
      "execution_count": 311,
      "outputs": []
    },
    {
      "cell_type": "code",
      "source": [],
      "metadata": {
        "id": "U7tRq_IeQFrP"
      },
      "id": "U7tRq_IeQFrP",
      "execution_count": 311,
      "outputs": []
    },
    {
      "cell_type": "code",
      "source": [],
      "metadata": {
        "id": "NDShQcP-QFuE"
      },
      "id": "NDShQcP-QFuE",
      "execution_count": 311,
      "outputs": []
    },
    {
      "cell_type": "code",
      "source": [],
      "metadata": {
        "id": "S1TAenjdHta0"
      },
      "id": "S1TAenjdHta0",
      "execution_count": 311,
      "outputs": []
    },
    {
      "cell_type": "code",
      "source": [],
      "metadata": {
        "id": "AZSkqyo0QEJM"
      },
      "id": "AZSkqyo0QEJM",
      "execution_count": 311,
      "outputs": []
    },
    {
      "cell_type": "code",
      "source": [],
      "metadata": {
        "id": "G6m39tOeQEMD"
      },
      "id": "G6m39tOeQEMD",
      "execution_count": 311,
      "outputs": []
    },
    {
      "cell_type": "code",
      "source": [],
      "metadata": {
        "id": "1sWtPnsQQEPr"
      },
      "id": "1sWtPnsQQEPr",
      "execution_count": 311,
      "outputs": []
    },
    {
      "cell_type": "code",
      "source": [],
      "metadata": {
        "id": "Hdy8LSzLQESm"
      },
      "id": "Hdy8LSzLQESm",
      "execution_count": 311,
      "outputs": []
    },
    {
      "cell_type": "code",
      "source": [],
      "metadata": {
        "id": "JqJczu0cJMHE"
      },
      "id": "JqJczu0cJMHE",
      "execution_count": 311,
      "outputs": []
    }
  ],
  "metadata": {
    "colab": {
      "provenance": []
    },
    "language_info": {
      "name": "python"
    },
    "kernelspec": {
      "name": "python3",
      "display_name": "Python 3"
    },
    "gpuClass": "standard",
    "accelerator": "GPU"
  },
  "nbformat": 4,
  "nbformat_minor": 5
}