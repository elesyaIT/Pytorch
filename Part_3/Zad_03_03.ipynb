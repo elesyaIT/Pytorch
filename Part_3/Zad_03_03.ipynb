{
 "cells": [
  {
   "cell_type": "code",
   "execution_count": null,
   "metadata": {
    "id": "YR8x3VWl5zQ3"
   },
   "outputs": [],
   "source": [
    "from sklearn.datasets import fetch_california_housing\n",
    "from sklearn.model_selection  import train_test_split\n",
    "import torch\n",
    "import torch.nn as nn\n",
    "import torch.nn.functional as F"
   ]
  },
  {
   "cell_type": "code",
   "execution_count": null,
   "metadata": {
    "colab": {
     "base_uri": "https://localhost:8080/"
    },
    "id": "lW0VcTvV57ZK",
    "outputId": "335eb1e0-2bd2-45e3-8116-9d21ff8f2ba3"
   },
   "outputs": [
    {
     "name": "stdout",
     "output_type": "stream",
     "text": [
      "X_train -  (15480, 8)  -  <class 'numpy.ndarray'>\n",
      "--------------------------------------------------\n",
      "y_train -  (15480,)  -  <class 'numpy.ndarray'>\n",
      "--------------------------------------------------\n",
      "X_test -  (5160, 8)  -  <class 'numpy.ndarray'>\n",
      "--------------------------------------------------\n",
      "y_test -  (5160,)  -  <class 'numpy.ndarray'>\n",
      "--------------------------------------------------\n"
     ]
    }
   ],
   "source": [
    "california = fetch_california_housing()\n",
    "y = california['target']\n",
    "X = california['data']\n",
    "X_train, X_test, y_train, y_test = train_test_split(X, y, test_size=0.25, random_state=13)\n",
    "\n",
    "\n",
    "print('X_train - ', X_train.shape, ' - ', type(X_train))\n",
    "print('-' * 50)\n",
    "print('y_train - ', y_train.shape, ' - ', type(y_train))\n",
    "print('-' * 50)\n",
    "print('X_test - ', X_test.shape, ' - ', type(X_test))\n",
    "print('-' * 50)\n",
    "print('y_test - ', y_test.shape, ' - ', type(y_test))\n",
    "print('-' * 50)"
   ]
  },
  {
   "cell_type": "code",
   "execution_count": null,
   "metadata": {
    "id": "3EWHg-SwvVGX"
   },
   "outputs": [],
   "source": [
    "class MyCalifornia(torch.utils.data.Dataset):\n",
    "\n",
    "  def __init__(self, init_dataset, transform=None):\n",
    "    self._base_dataset = init_dataset\n",
    "    self.transform = transform\n",
    "\n",
    "  def __len__(self):\n",
    "    return len(self._base_dataset)\n",
    "\n",
    "  def __getitem__(self, idx):\n",
    "    date, target = self._base_dataset[idx]\n",
    "      "
   ]
  },
  {
   "cell_type": "code",
   "execution_count": null,
   "metadata": {
    "id": "fUoPe9cxvTVR"
   },
   "outputs": [],
   "source": [
    "img_size = 32\n",
    "\n",
    "class MyOwnCifar(torch.utils.data.Dataset):\n",
    "   \n",
    "    def __init__(self, init_dataset, transform=None):\n",
    "        self._base_dataset = init_dataset\n",
    "        self.transform = transform\n",
    "\n",
    "    def __len__(self):\n",
    "        return len(self._base_dataset)\n",
    "\n",
    "    def __getitem__(self, idx):\n",
    "        img, lbl = self._base_dataset[idx]\n",
    "\n",
    "        if self.transform is not None:\n",
    "            img = self.transform(img)\n",
    "        \n",
    "        img = img.view(img_size * img_size * 3)\n",
    "        return img, lbl\n",
    "    \n",
    "\n",
    "trans_actions = transforms.Compose([transforms.Resize(img_size + 2),\n",
    "                                    transforms.RandomCrop(img_size, padding=2), \n",
    "                                    transforms.ToTensor()])\n",
    "\n",
    "dataset = MyOwnCifar(train_dataset, trans_actions)\n",
    "train_loader = torch.utils.data.DataLoader(dataset,\n",
    "                          batch_size=128,\n",
    "                          shuffle=True,\n",
    "                          num_workers=2)"
   ]
  },
  {
   "cell_type": "code",
   "execution_count": null,
   "metadata": {
    "id": "BjpDmf7QEJGm"
   },
   "outputs": [],
   "source": [
    "batch_size = 100\n",
    "num_epochs = 200\n",
    "learning_rate = 0.1\n",
    "size_hidden= 500\n",
    "\n",
    "batch_no = len(X_train)\n",
    "cols=X_train.shape[1] \n",
    "n_output=1\n",
    "\n",
    "class Net(torch.nn.Module):\n",
    "    def __init__(self, n_feature, size_hidden, n_output):\n",
    "        super(Net, self).__init__()\n",
    "        self.hidden = torch.nn.Linear(cols, size_hidden)   # hidden layer\n",
    "        self.predict = torch.nn.Linear(size_hidden, n_output)   # output layer\n",
    "\n",
    "    def forward(self, x):\n",
    "        x = F.relu(self.hidden(x))      # activation function for hidden layer\n",
    "        x = self.predict(x)             # linear output\n",
    "        return x\n",
    "net = Net(cols, size_hidden, n_output)"
   ]
  },
  {
   "cell_type": "code",
   "execution_count": null,
   "metadata": {
    "colab": {
     "base_uri": "https://localhost:8080/"
    },
    "id": "Q2pLxhBVF9kH",
    "outputId": "17fa1559-7aab-4156-b185-9d31a19071aa"
   },
   "outputs": [
    {
     "name": "stderr",
     "output_type": "stream",
     "text": [
      "/usr/local/lib/python3.7/dist-packages/torch/nn/_reduction.py:42: UserWarning: size_average and reduce args will be deprecated, please use reduction='sum' instead.\n",
      "  warnings.warn(warning.format(ret))\n"
     ]
    }
   ],
   "source": [
    "optimizer = torch.optim.Adam(net.parameters(), lr=learning_rate)\n",
    "# optimizer = torch.optim.RMSprop(net.parameters(), lr=0.1, alpha=0.99)\n",
    "# optimizer = torch.optim.SGD(net.parameters(), lr=learning_rate)\n",
    "criterion = torch.nn.MSELoss(size_average=False)"
   ]
  },
  {
   "cell_type": "code",
   "execution_count": null,
   "metadata": {
    "colab": {
     "base_uri": "https://localhost:8080/"
    },
    "id": "3Kg2BDTlGH-0",
    "outputId": "0d45f12a-d9ee-43d7-ffeb-e16453c1a95c"
   },
   "outputs": [
    {
     "name": "stdout",
     "output_type": "stream",
     "text": [
      "Epoch 1 loss:  6995004714.445328\n",
      "Epoch 2 loss:  11125605.031852722\n",
      "Epoch 3 loss:  20721.350799560547\n",
      "Epoch 4 loss:  20701.86823272705\n",
      "Epoch 5 loss:  20788.438034057617\n",
      "Epoch 6 loss:  20717.37660217285\n",
      "Epoch 7 loss:  20857.778884887695\n",
      "Epoch 8 loss:  20842.279586791992\n",
      "Epoch 9 loss:  20846.639602661133\n",
      "Epoch 10 loss:  20890.887413024902\n",
      "Epoch 11 loss:  20784.564163208008\n",
      "Epoch 12 loss:  20835.31150817871\n",
      "Epoch 13 loss:  20795.01293182373\n",
      "Epoch 14 loss:  20890.455558776855\n",
      "Epoch 15 loss:  20708.360107421875\n",
      "Epoch 16 loss:  20883.59659576416\n",
      "Epoch 17 loss:  20687.91025543213\n",
      "Epoch 18 loss:  20845.747764587402\n",
      "Epoch 19 loss:  20950.32216644287\n",
      "Epoch 20 loss:  20930.514694213867\n",
      "Epoch 21 loss:  20789.423706054688\n",
      "Epoch 23 loss:  20717.247451782227\n",
      "Epoch 24 loss:  20788.134315490723\n",
      "Epoch 25 loss:  20976.7885055542\n",
      "Epoch 26 loss:  20820.363136291504\n",
      "Epoch 27 loss:  20918.427543640137\n",
      "Epoch 28 loss:  20732.784324645996\n",
      "Epoch 29 loss:  20758.401947021484\n",
      "Epoch 30 loss:  20852.65464782715\n",
      "Epoch 31 loss:  20709.06103515625\n",
      "Epoch 32 loss:  20772.22222137451\n",
      "Epoch 33 loss:  20801.181770324707\n",
      "Epoch 34 loss:  20783.357414245605\n",
      "Epoch 35 loss:  20797.900901794434\n",
      "Epoch 36 loss:  20740.563453674316\n",
      "Epoch 37 loss:  20971.518409729004\n",
      "Epoch 38 loss:  20749.4769821167\n",
      "Epoch 39 loss:  20798.712684631348\n",
      "Epoch 40 loss:  20940.763710021973\n",
      "Epoch 41 loss:  20773.72703552246\n",
      "Epoch 42 loss:  20786.959503173828\n",
      "Epoch 43 loss:  20721.265144348145\n",
      "Epoch 44 loss:  20797.56552886963\n",
      "Epoch 45 loss:  20906.824020385742\n",
      "Epoch 46 loss:  20902.097091674805\n",
      "Epoch 47 loss:  20905.805976867676\n",
      "Epoch 48 loss:  20759.562423706055\n",
      "Epoch 49 loss:  20836.346397399902\n",
      "Epoch 50 loss:  20780.455291748047\n",
      "Epoch 51 loss:  20767.03826904297\n",
      "Epoch 52 loss:  20656.614822387695\n",
      "Epoch 53 loss:  20843.988998413086\n",
      "Epoch 54 loss:  20940.497268676758\n",
      "Epoch 55 loss:  20830.328216552734\n",
      "Epoch 56 loss:  20888.730842590332\n",
      "Epoch 57 loss:  20754.308807373047\n",
      "Epoch 58 loss:  20897.78875732422\n",
      "Epoch 59 loss:  20866.9380569458\n",
      "Epoch 60 loss:  20742.13324737549\n",
      "Epoch 61 loss:  20808.944854736328\n",
      "Epoch 62 loss:  20838.176155090332\n",
      "Epoch 63 loss:  20763.027557373047\n",
      "Epoch 64 loss:  20882.759162902832\n",
      "Epoch 65 loss:  20970.043479919434\n",
      "Epoch 66 loss:  20725.04842376709\n",
      "Epoch 67 loss:  20664.654983520508\n",
      "Epoch 68 loss:  20965.29457092285\n",
      "Epoch 69 loss:  20752.16374206543\n",
      "Epoch 70 loss:  20740.044792175293\n",
      "Epoch 71 loss:  20763.66339111328\n",
      "Epoch 72 loss:  20703.311485290527\n",
      "Epoch 73 loss:  20783.305305480957\n",
      "Epoch 74 loss:  20758.99200439453\n",
      "Epoch 75 loss:  20805.56443786621\n",
      "Epoch 76 loss:  20789.626426696777\n",
      "Epoch 77 loss:  20774.729705810547\n",
      "Epoch 78 loss:  20839.640335083008\n",
      "Epoch 79 loss:  20914.142303466797\n",
      "Epoch 80 loss:  20874.68076324463\n",
      "Epoch 81 loss:  20745.583877563477\n",
      "Epoch 82 loss:  20721.841133117676\n",
      "Epoch 83 loss:  20769.69467163086\n",
      "Epoch 84 loss:  20795.414558410645\n",
      "Epoch 85 loss:  20816.057762145996\n",
      "Epoch 86 loss:  20817.312004089355\n",
      "Epoch 87 loss:  20903.962211608887\n",
      "Epoch 88 loss:  20783.910667419434\n",
      "Epoch 89 loss:  20726.691291809082\n",
      "Epoch 90 loss:  20785.04497528076\n",
      "Epoch 91 loss:  20801.169723510742\n",
      "Epoch 92 loss:  20644.17441558838\n",
      "Epoch 93 loss:  20810.838409423828\n",
      "Epoch 94 loss:  20810.32632446289\n",
      "Epoch 95 loss:  21055.440719604492\n",
      "Epoch 96 loss:  20826.458641052246\n",
      "Epoch 97 loss:  20782.7752532959\n",
      "Epoch 98 loss:  20848.842094421387\n",
      "Epoch 99 loss:  20963.785118103027\n",
      "Epoch 100 loss:  20814.73550415039\n",
      "Epoch 101 loss:  20835.477432250977\n",
      "Epoch 102 loss:  20964.556846618652\n",
      "Epoch 103 loss:  20811.533462524414\n",
      "Epoch 104 loss:  20767.317008972168\n",
      "Epoch 105 loss:  20877.805290222168\n",
      "Epoch 106 loss:  20760.544036865234\n",
      "Epoch 107 loss:  20760.325119018555\n",
      "Epoch 108 loss:  20838.275619506836\n",
      "Epoch 109 loss:  20682.433563232422\n",
      "Epoch 110 loss:  20997.447387695312\n",
      "Epoch 111 loss:  20767.054931640625\n",
      "Epoch 112 loss:  20892.42332458496\n",
      "Epoch 113 loss:  20764.078987121582\n",
      "Epoch 114 loss:  20849.9242477417\n",
      "Epoch 115 loss:  21017.42276763916\n",
      "Epoch 116 loss:  20731.254066467285\n",
      "Epoch 117 loss:  20747.22551727295\n",
      "Epoch 118 loss:  20728.92520904541\n",
      "Epoch 119 loss:  20900.708168029785\n",
      "Epoch 120 loss:  20806.084045410156\n",
      "Epoch 121 loss:  20706.262603759766\n",
      "Epoch 122 loss:  20780.55403137207\n",
      "Epoch 123 loss:  20775.22389984131\n",
      "Epoch 124 loss:  20735.603256225586\n",
      "Epoch 125 loss:  20727.574089050293\n",
      "Epoch 126 loss:  20924.215545654297\n",
      "Epoch 127 loss:  20834.630340576172\n",
      "Epoch 128 loss:  20769.128883361816\n",
      "Epoch 129 loss:  20913.9966506958\n",
      "Epoch 130 loss:  20798.700325012207\n",
      "Epoch 131 loss:  20763.68589782715\n",
      "Epoch 132 loss:  20778.369918823242\n",
      "Epoch 133 loss:  20767.38218688965\n",
      "Epoch 134 loss:  20870.771858215332\n",
      "Epoch 135 loss:  20840.384071350098\n",
      "Epoch 136 loss:  20845.75762939453\n",
      "Epoch 137 loss:  20827.015251159668\n",
      "Epoch 138 loss:  20763.115516662598\n",
      "Epoch 139 loss:  20789.81170654297\n",
      "Epoch 140 loss:  20801.260025024414\n",
      "Epoch 141 loss:  20725.753341674805\n",
      "Epoch 142 loss:  20754.43608856201\n",
      "Epoch 143 loss:  20870.831016540527\n",
      "Epoch 144 loss:  20708.31143951416\n",
      "Epoch 145 loss:  20846.07698059082\n",
      "Epoch 146 loss:  20855.574279785156\n",
      "Epoch 147 loss:  20730.78611755371\n",
      "Epoch 148 loss:  20867.256423950195\n",
      "Epoch 149 loss:  20757.060264587402\n",
      "Epoch 150 loss:  20824.58292388916\n",
      "Epoch 151 loss:  21218.323287963867\n",
      "Epoch 152 loss:  20943.89022064209\n",
      "Epoch 153 loss:  20819.680130004883\n",
      "Epoch 154 loss:  20990.760414123535\n",
      "Epoch 155 loss:  20856.188148498535\n",
      "Epoch 156 loss:  20781.585479736328\n",
      "Epoch 157 loss:  20765.96681213379\n",
      "Epoch 158 loss:  21019.96901702881\n",
      "Epoch 159 loss:  20808.288230895996\n",
      "Epoch 160 loss:  20705.910842895508\n",
      "Epoch 161 loss:  20737.401168823242\n",
      "Epoch 162 loss:  20736.27434539795\n",
      "Epoch 163 loss:  20836.55484008789\n",
      "Epoch 164 loss:  20852.861694335938\n",
      "Epoch 165 loss:  20746.514122009277\n",
      "Epoch 166 loss:  20873.132751464844\n",
      "Epoch 167 loss:  20850.888122558594\n",
      "Epoch 168 loss:  20793.511840820312\n",
      "Epoch 169 loss:  20835.963676452637\n",
      "Epoch 170 loss:  20757.30167388916\n",
      "Epoch 171 loss:  20864.294273376465\n",
      "Epoch 172 loss:  20904.49476623535\n",
      "Epoch 173 loss:  20762.78192138672\n",
      "Epoch 174 loss:  20824.67498779297\n",
      "Epoch 175 loss:  20835.04779815674\n",
      "Epoch 176 loss:  20945.5284576416\n",
      "Epoch 177 loss:  20848.864784240723\n",
      "Epoch 178 loss:  20636.56201171875\n",
      "Epoch 179 loss:  20884.382217407227\n",
      "Epoch 180 loss:  20906.14331817627\n",
      "Epoch 181 loss:  20790.962532043457\n",
      "Epoch 182 loss:  20706.99053955078\n",
      "Epoch 183 loss:  20875.331924438477\n",
      "Epoch 184 loss:  20876.167320251465\n",
      "Epoch 185 loss:  20829.063987731934\n",
      "Epoch 186 loss:  21031.30037689209\n",
      "Epoch 187 loss:  20686.124053955078\n",
      "Epoch 188 loss:  20826.358856201172\n",
      "Epoch 189 loss:  20766.822036743164\n",
      "Epoch 190 loss:  20805.949981689453\n",
      "Epoch 191 loss:  20740.07359313965\n",
      "Epoch 192 loss:  20817.01584625244\n",
      "Epoch 193 loss:  20750.781356811523\n",
      "Epoch 194 loss:  20937.028564453125\n",
      "Epoch 195 loss:  20792.376663208008\n",
      "Epoch 196 loss:  20900.340660095215\n",
      "Epoch 197 loss:  20848.126670837402\n",
      "Epoch 198 loss:  20791.961311340332\n",
      "Epoch 199 loss:  20736.79485321045\n",
      "Epoch 200 loss:  20842.632972717285\n"
     ]
    }
   ],
   "source": [
    "from sklearn.utils import shuffle\n",
    "from torch.autograd import Variable\n",
    "running_loss = 0.0\n",
    "for epoch in range(num_epochs):\n",
    "    #Shuffle just mixes up the dataset between epocs\n",
    "    X_train, y_train = shuffle(X_train, y_train)\n",
    "    # Mini batch learning\n",
    "    for i in range(batch_no):\n",
    "        start = i * batch_size\n",
    "        end = start + batch_size\n",
    "        inputs = Variable(torch.FloatTensor(X_train[start:end]))\n",
    "        labels = Variable(torch.FloatTensor(y_train[start:end]))\n",
    "        # zero the parameter gradients\n",
    "        optimizer.zero_grad()\n",
    "\n",
    "        # forward + backward + optimize\n",
    "        outputs = net(inputs)\n",
    "        #print(\"outputs\",outputs)\n",
    "        #print(\"outputs\",outputs,outputs.shape,\"labels\",labels, labels.shape)\n",
    "        loss = criterion(outputs, torch.unsqueeze(labels,dim=1))\n",
    "        loss.backward()\n",
    "        optimizer.step()\n",
    "\n",
    "        # print statistics\n",
    "        running_loss += loss.item()\n",
    "        \n",
    "    print('Epoch {}'.format(epoch+1), \"loss: \",running_loss)\n",
    "    running_loss = 0.0"
   ]
  },
  {
   "cell_type": "code",
   "execution_count": null,
   "metadata": {
    "colab": {
     "base_uri": "https://localhost:8080/"
    },
    "id": "x3iZTh0_NzXT",
    "outputId": "3a5f6baa-c095-45f7-8a0d-e19c54ee938c"
   },
   "outputs": [
    {
     "name": "stdout",
     "output_type": "stream",
     "text": [
      "15480 15480\n"
     ]
    },
    {
     "data": {
      "text/plain": [
       "-9556951238085.01"
      ]
     },
     "execution_count": 63,
     "metadata": {},
     "output_type": "execute_result"
    }
   ],
   "source": [
    "import pandas as pd\n",
    "from sklearn.metrics import r2_score\n",
    "\n",
    "X = Variable(torch.FloatTensor(X_train)) \n",
    "result = net(X)\n",
    "pred=result.data[:,0].numpy()\n",
    "print(len(pred),len(y_train))\n",
    "r2_score(pred,y_train)"
   ]
  },
  {
   "cell_type": "code",
   "execution_count": null,
   "metadata": {
    "id": "hFP_rs0UN7cC"
   },
   "outputs": [],
   "source": [
    "from sklearn.metrics import r2_score\n",
    "#This is a little bit tricky to get the resulting prediction.  \n",
    "def calculate_r2(x,y=[]):\n",
    "    \"\"\"\n",
    "    This function will return the r2 if passed x and y or return predictions if just passed x. \n",
    "    \"\"\"\n",
    "    # Evaluate the model with the test set. \n",
    "    X = Variable(torch.FloatTensor(x))  \n",
    "    result = net(X) #This outputs the value for regression\n",
    "    result=result.data[:,0].numpy()\n",
    "  \n",
    "    if len(y) != 0:\n",
    "        r2=r2_score(result, y)\n",
    "        print(\"R-Squared\", r2)\n",
    "        #print('Accuracy {:.2f}'.format(num_right / len(y)), \"for a total of \", len(y), \"records\")\n",
    "        return pd.DataFrame(data= {'actual': y, 'predicted': result})\n",
    "    else:\n",
    "        print(\"returning predictions\")\n",
    "        return result"
   ]
  },
  {
   "cell_type": "code",
   "execution_count": null,
   "metadata": {
    "colab": {
     "base_uri": "https://localhost:8080/"
    },
    "id": "XGtt3A9hN9Tl",
    "outputId": "ca25ea16-364a-4cc5-815b-47d375f75d2d"
   },
   "outputs": [
    {
     "name": "stdout",
     "output_type": "stream",
     "text": [
      "R-Squared -9556951238085.01\n",
      "R-Squared -38435112538528.65\n"
     ]
    }
   ],
   "source": [
    "result1=calculate_r2(X_train,y_train)\n",
    "result2=calculate_r2(X_test,y_test)"
   ]
  },
  {
   "cell_type": "code",
   "execution_count": null,
   "metadata": {
    "colab": {
     "base_uri": "https://localhost:8080/"
    },
    "id": "yqDXTV4iOKcb",
    "outputId": "98ea873a-ff1e-407d-938e-a17b0bb2196a"
   },
   "outputs": [
    {
     "data": {
      "text/plain": [
       "LinearRegression()"
      ]
     },
     "execution_count": 66,
     "metadata": {},
     "output_type": "execute_result"
    }
   ],
   "source": [
    "from sklearn.linear_model import LinearRegression\n",
    "lm = LinearRegression()\n",
    "lm.fit( X_train, y_train )"
   ]
  },
  {
   "cell_type": "code",
   "execution_count": null,
   "metadata": {
    "colab": {
     "base_uri": "https://localhost:8080/"
    },
    "id": "lwQtysl1OPTO",
    "outputId": "9c61cf76-ca92-4b11-b049-da30023217d3"
   },
   "outputs": [
    {
     "name": "stdout",
     "output_type": "stream",
     "text": [
      "R2 for Train) 0.6071811535067086\n",
      "R2 for Test (cross validation) 0.6032263670167703\n"
     ]
    }
   ],
   "source": [
    "print('R2 for Train)', lm.score( X_train, y_train ))\n",
    "print('R2 for Test (cross validation)', lm.score(X_test, y_test))"
   ]
  },
  {
   "cell_type": "markdown",
   "metadata": {
    "id": "6jhINzGIQe5f"
   },
   "source": [
    "##Adam\n",
    "- R2 for Train) 0.6071811535067086\n",
    "- R2 for Test (cross validation) 0.6032263670167717"
   ]
  }
 ],
 "metadata": {
  "colab": {
   "collapsed_sections": [],
   "provenance": []
  },
  "kernelspec": {
   "display_name": "Python 3 (ipykernel)",
   "language": "python",
   "name": "python3"
  },
  "language_info": {
   "codemirror_mode": {
    "name": "ipython",
    "version": 3
   },
   "file_extension": ".py",
   "mimetype": "text/x-python",
   "name": "python",
   "nbconvert_exporter": "python",
   "pygments_lexer": "ipython3",
   "version": "3.9.12"
  }
 },
 "nbformat": 4,
 "nbformat_minor": 1
}
